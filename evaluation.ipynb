{
 "cells": [
  {
   "cell_type": "markdown",
   "metadata": {
    "pycharm": {
     "name": "#%% md\n"
    }
   },
   "source": [
    "# Evaluation"
   ]
  },
  {
   "cell_type": "markdown",
   "metadata": {
    "pycharm": {
     "name": "#%% md\n"
    }
   },
   "source": [
    "## Import Libraries"
   ]
  },
  {
   "cell_type": "code",
   "execution_count": null,
   "metadata": {
    "pycharm": {
     "name": "#%%\n"
    }
   },
   "outputs": [],
   "source": [
    "from pathlib import Path\n",
    "\n",
    "import torch\n",
    "import psutil\n",
    "import numpy as np\n",
    "import pandas as pd\n",
    "import seaborn as sns\n",
    "import shap\n",
    "import matplotlib.pyplot as plt\n",
    "import torch.nn.functional as F\n",
    "import os\n",
    "from petastorm import make_reader\n",
    "from petastorm.pytorch import DataLoader\n",
    "from sklearn import metrics\n",
    "\n",
    "from pathlib import Path\n",
    "\n",
    "from ml.vae import VAE\n",
    "from ml.ae import AE"
   ]
  },
  {
   "cell_type": "markdown",
   "metadata": {
    "pycharm": {
     "name": "#%% md\n"
    }
   },
   "source": [
    "## Configuration"
   ]
  },
  {
   "cell_type": "code",
   "execution_count": null,
   "metadata": {
    "collapsed": false,
    "jupyter": {
     "outputs_hidden": false
    },
    "pycharm": {
     "name": "#%%\n"
    }
   },
   "outputs": [],
   "source": [
    "model_dir = 'model_ae_mse/scan44_model/'\n",
    "model_name = 'ae_scan44_fnn.model'\n",
    "model_path = model_dir + model_name\n",
    "data_path = 'model_input_scan44_fnn/test.model_input.parquet'\n",
    "results_dir = 'results_test'\n",
    "# get number of cores\n",
    "#num_cores = psutil.cpu_count(logical=True)\n",
    "num_cores = 8\n",
    "pos_label = 'scan44'\n",
    "model_type = AE"
   ]
  },
  {
   "cell_type": "markdown",
   "metadata": {
    "pycharm": {
     "name": "#%% md\n"
    }
   },
   "source": [
    "## Load Model"
   ]
  },
  {
   "cell_type": "code",
   "execution_count": null,
   "metadata": {
    "collapsed": false,
    "jupyter": {
     "outputs_hidden": false
    },
    "pycharm": {
     "name": "#%%\n"
    }
   },
   "outputs": [],
   "source": [
    "model = model_type.load_from_checkpoint(checkpoint_path=model_path, map_location=torch.device('cuda'))\n",
    "\n",
    "model.eval()"
   ]
  },
  {
   "cell_type": "markdown",
   "metadata": {
    "pycharm": {
     "name": "#%% md\n"
    }
   },
   "source": [
    "## Define Reconstruct Error Function"
   ]
  },
  {
   "cell_type": "code",
   "execution_count": null,
   "metadata": {
    "pycharm": {
     "name": "#%%\n"
    }
   },
   "outputs": [],
   "source": [
    "def calc_recon_loss(recon_x, x, logvar = None, mu = None, loss_type: str = 'mse') -> list:\n",
    "    \"\"\"\n",
    "    Return the reconstruction loss\n",
    "\n",
    "    :param recon_x: reconstructed x, output from model\n",
    "    :param x: original x\n",
    "    :param logvar: variance, output from model, ignored when loss_type isn't 'bce+kd'\n",
    "    :param mu: mean, output from model, ignored when loss_type isn't 'bce+kd'\n",
    "    :param loss_type: method to compute loss, option: 'bce', 'mse', 'bce+kd'\n",
    "    :return: list of reconstruct errors\n",
    "    :rtype: list\n",
    "    \"\"\"\n",
    "\n",
    "    loss_type = loss_type.lower()\n",
    "\n",
    "    # 73 is the number of features\n",
    "    NUM_FEATURES=73\n",
    "    if loss_type == 'mse':\n",
    "        recon_error = F.mse_loss(recon_x, x, reduction='none').view(-1, NUM_FEATURES).mean(dim=1)\n",
    "    elif loss_type == 'mse+kd':\n",
    "        mse = F.mse_loss(recon_x, x, reduction='none').view(-1, NUM_FEATURES).mean(dim=1)\n",
    "        kd = -0.5 * torch.sum(1 + logvar - mu.pow(2) - logvar.exp())\n",
    "        recon_error = mse + kd\n",
    "    else:\n",
    "        raise Exception('Invalid loss type: only support \"mse\", or \"mse+kd\"')\n",
    "\n",
    "    return recon_error.tolist()"
   ]
  },
  {
   "cell_type": "markdown",
   "metadata": {
    "pycharm": {
     "name": "#%% md\n"
    }
   },
   "source": [
    "## Calculate Reconstruction Error"
   ]
  },
  {
   "cell_type": "code",
   "execution_count": null,
   "metadata": {},
   "outputs": [],
   "source": [
    "reader = make_reader(\n",
    "Path(data_path).absolute().as_uri(), reader_pool_type='process', workers_count=num_cores,\n",
    "pyarrow_serialize=True, num_epochs=1\n",
    ")"
   ]
  },
  {
   "cell_type": "code",
   "execution_count": null,
   "metadata": {
    "collapsed": false,
    "jupyter": {
     "outputs_hidden": false
    },
    "pycharm": {
     "name": "#%%\n"
    }
   },
   "outputs": [],
   "source": [
    "def calc_recon_loss_batch(loss_type):\n",
    "    #reader.reset()\n",
    "    # No shuffle\n",
    "    dataloader = DataLoader(reader, batch_size=3000)\n",
    "\n",
    "    loss_list = []\n",
    "    label_list = []\n",
    "\n",
    "    for data in dataloader:\n",
    "        x = data['feature']\n",
    "        label = data['label']\n",
    "        recon_x, mu, logvar = model(x)\n",
    "\n",
    "        loss = calc_recon_loss(recon_x, x, logvar, mu, loss_type=loss_type)\n",
    "\n",
    "        loss_list.extend(loss)\n",
    "        label_list.extend(label)\n",
    "    \n",
    "    return loss_list, label_list"
   ]
  },
  {
   "cell_type": "code",
   "execution_count": null,
   "metadata": {},
   "outputs": [],
   "source": [
    "save_dir = model_dir + results_dir + '/' + os.path.splitext(model_name)[0]\n",
    "Path(save_dir).mkdir(parents=True, exist_ok=True)\n",
    "loss_name = 'loss.npy'\n",
    "labels_name = 'labels.npy'\n",
    "if (model_type == AE):\n",
    "    print('AE')\n",
    "    loss, label = calc_recon_loss_batch('mse')\n",
    "elif (model_type == VAE):\n",
    "    print('VAE')\n",
    "    loss, label = calc_recon_loss_batch('mse')\n",
    "#np.save(save_dir + '/' + 'mse_loss.npy', np.array(mse_loss_list))\n",
    "#np.save(save_dir + '/' + 'bce_loss.npy', np.array(bce_loss_list))\n",
    "#np.save(save_dir + '/' + 'bce_kd_loss.npy', np.array(bce_kd_loss_list))\n",
    "#labels1 = np.array(list(map(lambda x: x == pos_label, label_list)))\n",
    "np.save(save_dir + '/' + loss_name, np.array(loss))\n",
    "labels_list = list(map(lambda x: x == pos_label, label))\n",
    "labels_np = np.array(labels_list)\n",
    "np.save(save_dir + '/' + labels_name, labels_np)\n",
    "print('Data size:', labels_np.size)\n",
    "print('Condition positive:', np.sum(labels_np))\n",
    "#np.save(save_dir + '/' + 'labels.npy', labels1)"
   ]
  },
  {
   "cell_type": "code",
   "execution_count": null,
   "metadata": {},
   "outputs": [],
   "source": [
    "# load the numpy arrays\n",
    "scores_run1 = np.load(save_dir + '/loss_run1.npy')\n",
    "scores_run2 = np.load(save_dir + '/loss_run2.npy')\n",
    "scores_run3 = np.load(save_dir + '/loss_run3.npy')\n",
    "\n",
    "labels_run1 = np.load(save_dir + '/labels_run1.npy')\n",
    "labels_run2 = np.load(save_dir + '/labels_run2.npy')\n",
    "labels_run3 = np.load(save_dir + '/labels_run3.npy')"
   ]
  },
  {
   "cell_type": "code",
   "execution_count": null,
   "metadata": {},
   "outputs": [],
   "source": [
    "np.where(labels_run1 == True)"
   ]
  },
  {
   "cell_type": "code",
   "execution_count": null,
   "metadata": {},
   "outputs": [],
   "source": [
    "np.where(labels_run2 == True)"
   ]
  },
  {
   "cell_type": "code",
   "execution_count": null,
   "metadata": {},
   "outputs": [],
   "source": [
    "np.where(labels_run3 == True)"
   ]
  },
  {
   "cell_type": "code",
   "execution_count": null,
   "metadata": {},
   "outputs": [],
   "source": [
    "# check if all the labels are equal\n",
    "equate_list1 = list(map(lambda x, y: x == y, labels_run1, labels_run2))\n",
    "equate_list2 = list(map(lambda x, y: x == y, labels_run1, labels_run3))\n",
    "equate_list3 = list(map(lambda x, y: x == y, labels_run2, labels_run3))\n",
    "print(np.sum(labels_run1))\n",
    "print(np.sum(labels_run2))\n",
    "print(np.sum(labels_run3))"
   ]
  },
  {
   "cell_type": "code",
   "execution_count": null,
   "metadata": {},
   "outputs": [],
   "source": [
    "import functools\n",
    "functools.reduce(lambda x, y: x and y, equate_list3)"
   ]
  },
  {
   "cell_type": "code",
   "execution_count": null,
   "metadata": {},
   "outputs": [],
   "source": [
    "labels1 = np.array(list(map(lambda x: x == pos_label, label_list)))\n",
    "print('Data size:', labels1.size)\n",
    "print('Condition positive:', np.sum(labels1))\n",
    "#np.save(save_dir + '/' + 'labels.npy', labels1)"
   ]
  },
  {
   "cell_type": "code",
   "execution_count": null,
   "metadata": {},
   "outputs": [],
   "source": [
    "labels2 = np.array([x == 'nerisbotnet' for x in label_list])"
   ]
  },
  {
   "cell_type": "code",
   "execution_count": null,
   "metadata": {},
   "outputs": [],
   "source": [
    "labels3 = np.array([x == 'dos' for x in label_list]) "
   ]
  },
  {
   "cell_type": "code",
   "execution_count": null,
   "metadata": {},
   "outputs": [],
   "source": [
    "equate_list1 = list(map(lambda x, y: x == y, labels1, labels2))\n",
    "equate_list2 = list(map(lambda x, y: x == y, labels1, labels3))"
   ]
  },
  {
   "cell_type": "code",
   "execution_count": null,
   "metadata": {},
   "outputs": [],
   "source": [
    "import functools\n",
    "functools.reduce(lambda x, y: x and y, equate_list1)"
   ]
  },
  {
   "cell_type": "code",
   "execution_count": null,
   "metadata": {},
   "outputs": [],
   "source": [
    "functools.reduce(lambda x, y: x and y, equate_list2)"
   ]
  },
  {
   "cell_type": "code",
   "execution_count": null,
   "metadata": {},
   "outputs": [],
   "source": [
    "np.sume"
   ]
  },
  {
   "cell_type": "code",
   "execution_count": null,
   "metadata": {},
   "outputs": [],
   "source": [
    "save_dir = model_dir + 'results_val' + '/' + os.path.splitext(model_name)[0]\n",
    "with open('mse_loss.txt', 'w') as file:\n",
    "    file.write('\\n'.join(mse_loss_list))"
   ]
  },
  {
   "cell_type": "markdown",
   "metadata": {
    "pycharm": {
     "name": "#%% md\n"
    }
   },
   "source": [
    "## Construct a Pandas Dataframe for Easier Evaluation"
   ]
  },
  {
   "cell_type": "code",
   "execution_count": null,
   "metadata": {
    "collapsed": false,
    "jupyter": {
     "outputs_hidden": false
    },
    "pycharm": {
     "name": "#%%\n"
    }
   },
   "outputs": [],
   "source": [
    "df = pd.DataFrame(\n",
    "    {\n",
    "        'x': x_list,\n",
    "        'mse_loss': mse_loss_list,\n",
    "        'bce_loss': bce_loss_list,\n",
    "        'bce+kd_loss': bce_kd_loss_list,\n",
    "        'label': label_list\n",
    "    }\n",
    ")"
   ]
  },
  {
   "cell_type": "markdown",
   "metadata": {},
   "source": [
    "## Plot Function"
   ]
  },
  {
   "cell_type": "markdown",
   "metadata": {
    "pycharm": {
     "name": "#%% md\n"
    }
   },
   "source": [
    "### Plot for ROC"
   ]
  },
  {
   "cell_type": "code",
   "execution_count": null,
   "metadata": {
    "collapsed": false,
    "jupyter": {
     "outputs_hidden": false
    },
    "pycharm": {
     "name": "#%%\n"
    }
   },
   "outputs": [],
   "source": [
    "def plot_roc(df: pd.DataFrame, malicious_type: str):\n",
    "    malicious_type_set = {'anomaly-spam', 'blacklist', 'dos', 'nerisbotnet', 'scan11', 'scan44'}\n",
    "\n",
    "    if malicious_type not in malicious_type_set:\n",
    "        raise Exception(f'Invalid malicious_type, only support \"{malicious_type_set}\"')\n",
    "\n",
    "    part_df = df[(df['label'] == 'background') | (df['label'] == malicious_type)]\n",
    "    label = (\n",
    "        part_df\n",
    "            .label.replace({\n",
    "                'background': 0,\n",
    "                malicious_type: 1,\n",
    "            })\n",
    "        .tolist()\n",
    "    )\n",
    "\n",
    "\n",
    "    mse_loss = part_df.mse_loss.tolist()\n",
    "    bce_loss = part_df.bce_loss.tolist()\n",
    "    bce_kd_loss = part_df['bce+kd_loss'].tolist()\n",
    "\n",
    "    fig, ax = plt.subplots(figsize=(5, 5))\n",
    "\n",
    "    fpr_mse, tpr_mse, thresholds_mse = metrics.roc_curve(label, mse_loss)\n",
    "    fpr_bce, tpr_bce, thresholds_bce = metrics.roc_curve(label, bce_loss)\n",
    "    fpr_bce_kd, tpr_bce_kd, thresholds_bce_kd = metrics.roc_curve(label, bce_kd_loss)\n",
    "\n",
    "    auc_mse = metrics.auc(fpr_mse, tpr_mse)\n",
    "    auc_bce = metrics.auc(fpr_bce, tpr_bce)\n",
    "    auc_bce_kd = metrics.auc(fpr_bce_kd, tpr_bce_kd)\n",
    "\n",
    "    ax.plot([0, 1], [0,1], 'k--')\n",
    "    ax.plot(fpr_mse, tpr_mse, label=f'with mse loss (auc = {auc_mse: .2f})')\n",
    "    ax.plot(fpr_bce, tpr_bce, label=f'with bce loss (auc = {auc_bce: .2f})')\n",
    "    ax.plot(fpr_bce_kd, tpr_bce_kd, label=f'with bce+kd loss (auc = {auc_bce_kd: .2f})')\n",
    "\n",
    "    ax.set_xlabel('False positive rate')\n",
    "    ax.set_ylabel('True positive rate')\n",
    "\n",
    "    ax.set_title(f'ROC of background and {malicious_type}')\n",
    "\n",
    "    ax.legend(loc='lower right')\n",
    "\n",
    "    fig.show()"
   ]
  },
  {
   "cell_type": "markdown",
   "metadata": {
    "pycharm": {
     "name": "#%% md\n"
    }
   },
   "source": [
    "### Plot for KDE"
   ]
  },
  {
   "cell_type": "code",
   "execution_count": null,
   "metadata": {
    "collapsed": false,
    "jupyter": {
     "outputs_hidden": false
    },
    "pycharm": {
     "name": "#%%\n"
    }
   },
   "outputs": [],
   "source": [
    "def plot_kde(df: pd.DataFrame, loss_type: str, malicious_type: str):\n",
    "    loss_type_set = {'mse', 'bce', 'bce+kd'}\n",
    "    if loss_type not in loss_type_set:\n",
    "        raise Exception(f'Invalid loss_type, only support \"{loss_type}\"')\n",
    "\n",
    "    malicious_type_set = {'anomaly-spam', 'blacklist', 'dos', 'nerisbotnet', 'scan11', 'scan44'}\n",
    "    if malicious_type not in malicious_type_set:\n",
    "        raise Exception(f'Invalid malicious_type, only support \"{malicious_type_set}\"')\n",
    "\n",
    "    normal_recon_error = df[df['label'] == 'background'][f'{loss_type}_loss'].tolist()\n",
    "    malicious_recon_error = df[df['label'] == malicious_type][f'{loss_type}_loss'].tolist()\n",
    "\n",
    "    fig, ax = plt.subplots(figsize=(5, 5))\n",
    "    sns.kdeplot(\n",
    "        normal_recon_error,\n",
    "        ax=ax,\n",
    "        label=f'background {loss_type} loss'\n",
    "    )\n",
    "    sns.kdeplot(\n",
    "        malicious_recon_error,\n",
    "        ax=ax,\n",
    "        label=f'{malicious_type} {loss_type} loss'\n",
    "    )\n",
    "\n",
    "    ax.set_title(f'Reconstruction Error Distribution of background traffic and {malicious_type}')\n",
    "    ax.legend(loc='lower right')\n",
    "\n",
    "    fig.show()"
   ]
  },
  {
   "cell_type": "markdown",
   "metadata": {
    "pycharm": {
     "name": "#%% md\n"
    }
   },
   "source": [
    "### Plot for Gradient"
   ]
  },
  {
   "cell_type": "code",
   "execution_count": null,
   "metadata": {
    "collapsed": false,
    "jupyter": {
     "outputs_hidden": false
    },
    "pycharm": {
     "name": "#%%\n"
    }
   },
   "outputs": [],
   "source": [
    "def plot_gradient(df: pd.DataFrame, malicious_type: str, model: VAE):\n",
    "    malicious_type_set = {'anomaly-spam', 'blacklist', 'dos', 'nerisbotnet', 'scan11', 'scan44'}\n",
    "\n",
    "    if malicious_type not in malicious_type_set:\n",
    "        raise Exception(f'Invalid malicious_type, only support \"{malicious_type_set}\"')\n",
    "\n",
    "    x = torch.FloatTensor(df[df['label'] == malicious_type]['x'].tolist())\n",
    "\n",
    "    # clear gradient\n",
    "    model.zero_grad()\n",
    "\n",
    "    # get model output\n",
    "    recon_x, logvar, mu = model(x)\n",
    "\n",
    "    # calculate loss\n",
    "    loss = model.loss_function(recon_x, x, mu, logvar)\n",
    "\n",
    "    # get the gradient w.r.t loss\n",
    "    grad = torch.autograd.grad(loss, recon_x, retain_graph=False)[0].view(-1, NUM_FEATURES)\n",
    "\n",
    "    # get selected feature grad only\n",
    "    grad = grad[:, [11, 13, 46, 53, 0, 1, 6, 3, 2, 4, 9, 14, 30, 57, 42, 43]]\n",
    "\n",
    "    # build selected feature name\n",
    "    feature_name = [\n",
    "        'entropy_dst_ip', 'entropy_dst_port', 'dst_SMTP', 'dst_HTTP', 'mean_duration', 'mean_packet', 'std_packet',\n",
    "        'mean_packet_rate', 'mean_num_of_bytes', 'mean_byte_rate', 'std_byte_rate', 'entropy_flags', 'src_RPC',\n",
    "        'dst_RPC', 'dst_FTP_20', 'dst_FTP_21'\n",
    "    ]\n",
    "\n",
    "    fig, ax = plt.subplots(figsize=(10, 10))\n",
    "\n",
    "    sns.barplot(x=grad.T.reshape(-1).tolist(), y=feature_name * grad.shape[0], orient='h', ax=ax)\n",
    "\n",
    "    ax.set_title(f'Gradient of {malicious_type}')\n",
    "\n",
    "    fig.show()"
   ]
  },
  {
   "cell_type": "markdown",
   "metadata": {},
   "source": [
    "## Plot ROC with Different Loss"
   ]
  },
  {
   "cell_type": "markdown",
   "metadata": {},
   "source": [
    "### anomaly-spam"
   ]
  },
  {
   "cell_type": "code",
   "execution_count": null,
   "metadata": {
    "collapsed": false,
    "jupyter": {
     "outputs_hidden": false
    },
    "pycharm": {
     "name": "#%%\n"
    }
   },
   "outputs": [],
   "source": [
    "plot_roc(df, 'anomaly-spam')"
   ]
  },
  {
   "cell_type": "markdown",
   "metadata": {},
   "source": [
    "### blacklist"
   ]
  },
  {
   "cell_type": "code",
   "execution_count": null,
   "metadata": {
    "collapsed": false,
    "jupyter": {
     "outputs_hidden": false
    },
    "pycharm": {
     "name": "#%%\n"
    }
   },
   "outputs": [],
   "source": [
    "plot_roc(df, 'blacklist')"
   ]
  },
  {
   "cell_type": "markdown",
   "metadata": {},
   "source": [
    "### dos"
   ]
  },
  {
   "cell_type": "code",
   "execution_count": null,
   "metadata": {
    "collapsed": false,
    "jupyter": {
     "outputs_hidden": false
    },
    "pycharm": {
     "name": "#%%\n"
    }
   },
   "outputs": [],
   "source": [
    "plot_roc(df, 'dos')"
   ]
  },
  {
   "cell_type": "markdown",
   "metadata": {},
   "source": [
    "### nerisbotnet"
   ]
  },
  {
   "cell_type": "code",
   "execution_count": null,
   "metadata": {
    "collapsed": false,
    "jupyter": {
     "outputs_hidden": false
    },
    "pycharm": {
     "name": "#%%\n"
    }
   },
   "outputs": [],
   "source": [
    "plot_roc(df, 'nerisbotnet')"
   ]
  },
  {
   "cell_type": "markdown",
   "metadata": {},
   "source": [
    "### scan44"
   ]
  },
  {
   "cell_type": "code",
   "execution_count": null,
   "metadata": {
    "collapsed": false,
    "jupyter": {
     "outputs_hidden": false
    },
    "pycharm": {
     "name": "#%%\n"
    }
   },
   "outputs": [],
   "source": [
    "plot_roc(df, 'scan44')"
   ]
  },
  {
   "cell_type": "markdown",
   "metadata": {},
   "source": [
    "### scan11"
   ]
  },
  {
   "cell_type": "code",
   "execution_count": null,
   "metadata": {
    "collapsed": false,
    "jupyter": {
     "outputs_hidden": false
    },
    "pycharm": {
     "name": "#%%\n"
    }
   },
   "outputs": [],
   "source": [
    "plot_roc(df, 'scan11')"
   ]
  },
  {
   "cell_type": "markdown",
   "metadata": {
    "pycharm": {
     "name": "#%% md\n"
    }
   },
   "source": [
    "## Plot Reconstruction Error Distribution"
   ]
  },
  {
   "cell_type": "markdown",
   "metadata": {
    "pycharm": {
     "name": "#%% md\n"
    }
   },
   "source": [
    "### anomaly-spam"
   ]
  },
  {
   "cell_type": "code",
   "execution_count": null,
   "metadata": {
    "collapsed": false,
    "jupyter": {
     "outputs_hidden": false
    },
    "pycharm": {
     "name": "#%%\n"
    }
   },
   "outputs": [],
   "source": [
    "plot_kde(df, 'mse', 'anomaly-spam')"
   ]
  },
  {
   "cell_type": "markdown",
   "metadata": {
    "pycharm": {
     "name": "#%% md\n"
    }
   },
   "source": [
    "### blacklist"
   ]
  },
  {
   "cell_type": "code",
   "execution_count": null,
   "metadata": {
    "collapsed": false,
    "jupyter": {
     "outputs_hidden": false
    },
    "pycharm": {
     "name": "#%%\n"
    }
   },
   "outputs": [],
   "source": [
    "plot_kde(df, 'mse', 'blacklist')"
   ]
  },
  {
   "cell_type": "markdown",
   "metadata": {
    "pycharm": {
     "name": "#%% md\n"
    }
   },
   "source": [
    "### dos"
   ]
  },
  {
   "cell_type": "code",
   "execution_count": null,
   "metadata": {
    "collapsed": false,
    "jupyter": {
     "outputs_hidden": false
    },
    "pycharm": {
     "name": "#%%\n"
    }
   },
   "outputs": [],
   "source": [
    "plot_kde(df, 'mse', 'dos')"
   ]
  },
  {
   "cell_type": "markdown",
   "metadata": {
    "pycharm": {
     "name": "#%% md\n"
    }
   },
   "source": [
    "### nerisbotnet"
   ]
  },
  {
   "cell_type": "code",
   "execution_count": null,
   "metadata": {
    "collapsed": false,
    "jupyter": {
     "outputs_hidden": false
    },
    "pycharm": {
     "name": "#%%\n"
    }
   },
   "outputs": [],
   "source": [
    "plot_kde(df, 'mse', 'nerisbotnet')"
   ]
  },
  {
   "cell_type": "markdown",
   "metadata": {
    "pycharm": {
     "name": "#%% md\n"
    }
   },
   "source": [
    "### scan44"
   ]
  },
  {
   "cell_type": "code",
   "execution_count": null,
   "metadata": {
    "collapsed": false,
    "jupyter": {
     "outputs_hidden": false
    },
    "pycharm": {
     "name": "#%%\n"
    }
   },
   "outputs": [],
   "source": [
    "plot_kde(df, 'mse', 'scan44')"
   ]
  },
  {
   "cell_type": "markdown",
   "metadata": {
    "pycharm": {
     "name": "#%% md\n"
    }
   },
   "source": [
    "### scan11"
   ]
  },
  {
   "cell_type": "code",
   "execution_count": null,
   "metadata": {
    "collapsed": false,
    "jupyter": {
     "outputs_hidden": false
    },
    "pycharm": {
     "name": "#%%\n"
    }
   },
   "outputs": [],
   "source": [
    "plot_kde(df, 'mse', 'scan11')"
   ]
  },
  {
   "cell_type": "markdown",
   "metadata": {
    "pycharm": {
     "name": "#%% md\n"
    }
   },
   "source": [
    "## Gradient Explainer"
   ]
  },
  {
   "cell_type": "markdown",
   "metadata": {},
   "source": [
    "### anomaly-spam"
   ]
  },
  {
   "cell_type": "code",
   "execution_count": null,
   "metadata": {
    "collapsed": false,
    "jupyter": {
     "outputs_hidden": false
    },
    "pycharm": {
     "name": "#%%\n"
    }
   },
   "outputs": [],
   "source": [
    "plot_gradient(df, 'anomaly-spam', model)"
   ]
  },
  {
   "cell_type": "markdown",
   "metadata": {},
   "source": [
    "### blacklist"
   ]
  },
  {
   "cell_type": "code",
   "execution_count": null,
   "metadata": {
    "collapsed": false,
    "jupyter": {
     "outputs_hidden": false
    },
    "pycharm": {
     "name": "#%%\n"
    }
   },
   "outputs": [],
   "source": [
    "plot_gradient(df, 'blacklist', model)"
   ]
  },
  {
   "cell_type": "markdown",
   "metadata": {},
   "source": [
    "### dos"
   ]
  },
  {
   "cell_type": "code",
   "execution_count": null,
   "metadata": {
    "collapsed": false,
    "jupyter": {
     "outputs_hidden": false
    },
    "pycharm": {
     "name": "#%%\n"
    }
   },
   "outputs": [],
   "source": [
    "plot_gradient(df, 'dos', model)"
   ]
  },
  {
   "cell_type": "markdown",
   "metadata": {},
   "source": [
    "### nerisbotnet"
   ]
  },
  {
   "cell_type": "code",
   "execution_count": null,
   "metadata": {
    "collapsed": false,
    "jupyter": {
     "outputs_hidden": false
    },
    "pycharm": {
     "name": "#%%\n"
    }
   },
   "outputs": [],
   "source": [
    "plot_gradient(df, 'nerisbotnet', model)"
   ]
  },
  {
   "cell_type": "markdown",
   "metadata": {},
   "source": [
    "### scan44"
   ]
  },
  {
   "cell_type": "code",
   "execution_count": null,
   "metadata": {
    "collapsed": false,
    "jupyter": {
     "outputs_hidden": false
    },
    "pycharm": {
     "name": "#%%\n"
    }
   },
   "outputs": [],
   "source": [
    "plot_gradient(df, 'scan44', model)"
   ]
  },
  {
   "cell_type": "markdown",
   "metadata": {},
   "source": [
    "### scan11"
   ]
  },
  {
   "cell_type": "code",
   "execution_count": null,
   "metadata": {
    "collapsed": false,
    "jupyter": {
     "outputs_hidden": false
    },
    "pycharm": {
     "name": "#%%\n"
    }
   },
   "outputs": [],
   "source": [
    "plot_gradient(df, 'scan11', model)"
   ]
  }
 ],
 "metadata": {
  "kernelspec": {
   "display_name": "gee",
   "language": "python",
   "name": "gee"
  },
  "language_info": {
   "codemirror_mode": {
    "name": "ipython",
    "version": 3
   },
   "file_extension": ".py",
   "mimetype": "text/x-python",
   "name": "python",
   "nbconvert_exporter": "python",
   "pygments_lexer": "ipython3",
   "version": "3.7.7"
  }
 },
 "nbformat": 4,
 "nbformat_minor": 4
}
